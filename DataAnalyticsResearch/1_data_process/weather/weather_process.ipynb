{
 "cells": [
  {
   "cell_type": "markdown",
   "source": [
    "Read in and check null values."
   ],
   "metadata": {
    "collapsed": false
   },
   "id": "70f2e83d24edc03f"
  },
  {
   "cell_type": "code",
   "execution_count": 125,
   "id": "initial_id",
   "metadata": {
    "collapsed": true,
    "ExecuteTime": {
     "end_time": "2024-06-15T19:00:20.269236700Z",
     "start_time": "2024-06-15T19:00:20.192495700Z"
    }
   },
   "outputs": [],
   "source": [
    "import pandas as pd"
   ]
  },
  {
   "cell_type": "code",
   "execution_count": 126,
   "outputs": [
    {
     "name": "stdout",
     "output_type": "stream",
     "text": [
      "timestamp             0\n",
      "temperature_f         0\n",
      "dew_point_f           0\n",
      "humidity_%            0\n",
      "wind                 10\n",
      "wind_speed_mph        0\n",
      "wind_gust_mph         0\n",
      "pressure_in           0\n",
      "precip_in             0\n",
      "weather_condition     0\n",
      "datetime              0\n",
      "dtype: int64\n"
     ]
    }
   ],
   "source": [
    "historical_weather_df = pd.read_csv(\"historical_weather_data.csv\")\n",
    "null_counts = historical_weather_df.isnull().sum()\n",
    "print(null_counts)"
   ],
   "metadata": {
    "collapsed": false,
    "ExecuteTime": {
     "end_time": "2024-06-15T19:00:20.299943900Z",
     "start_time": "2024-06-15T19:00:20.197815500Z"
    }
   },
   "id": "745caef0178eae41"
  },
  {
   "cell_type": "markdown",
   "source": [
    "Remove all the null values records."
   ],
   "metadata": {
    "collapsed": false
   },
   "id": "5e299d61226c400a"
  },
  {
   "cell_type": "code",
   "execution_count": 127,
   "outputs": [
    {
     "data": {
      "text/plain": "    timestamp  temperature_f  dew_point_f  humidity_% wind  wind_speed_mph  \\\n0  1676508660             56           50          80    S               3   \n1  1676512260             61           39          44   SW              16   \n2  1676515860             61           39          44  WSW              16   \n3  1676519460             60           38          44  WSW              15   \n4  1676523060             60           38          44   SW              13   \n\n   wind_gust_mph  pressure_in  precip_in weather_condition  \\\n0              0        29.79        0.0            Cloudy   \n1             24        29.91        0.0     Partly Cloudy   \n2             23        29.93        0.0     Mostly Cloudy   \n3              0        29.93        0.0     Mostly Cloudy   \n4              0        29.94        0.0     Mostly Cloudy   \n\n              datetime  \n0  2023-02-16 00:51:00  \n1  2023-02-16 01:51:00  \n2  2023-02-16 02:51:00  \n3  2023-02-16 03:51:00  \n4  2023-02-16 04:51:00  ",
      "text/html": "<div>\n<style scoped>\n    .dataframe tbody tr th:only-of-type {\n        vertical-align: middle;\n    }\n\n    .dataframe tbody tr th {\n        vertical-align: top;\n    }\n\n    .dataframe thead th {\n        text-align: right;\n    }\n</style>\n<table border=\"1\" class=\"dataframe\">\n  <thead>\n    <tr style=\"text-align: right;\">\n      <th></th>\n      <th>timestamp</th>\n      <th>temperature_f</th>\n      <th>dew_point_f</th>\n      <th>humidity_%</th>\n      <th>wind</th>\n      <th>wind_speed_mph</th>\n      <th>wind_gust_mph</th>\n      <th>pressure_in</th>\n      <th>precip_in</th>\n      <th>weather_condition</th>\n      <th>datetime</th>\n    </tr>\n  </thead>\n  <tbody>\n    <tr>\n      <th>0</th>\n      <td>1676508660</td>\n      <td>56</td>\n      <td>50</td>\n      <td>80</td>\n      <td>S</td>\n      <td>3</td>\n      <td>0</td>\n      <td>29.79</td>\n      <td>0.0</td>\n      <td>Cloudy</td>\n      <td>2023-02-16 00:51:00</td>\n    </tr>\n    <tr>\n      <th>1</th>\n      <td>1676512260</td>\n      <td>61</td>\n      <td>39</td>\n      <td>44</td>\n      <td>SW</td>\n      <td>16</td>\n      <td>24</td>\n      <td>29.91</td>\n      <td>0.0</td>\n      <td>Partly Cloudy</td>\n      <td>2023-02-16 01:51:00</td>\n    </tr>\n    <tr>\n      <th>2</th>\n      <td>1676515860</td>\n      <td>61</td>\n      <td>39</td>\n      <td>44</td>\n      <td>WSW</td>\n      <td>16</td>\n      <td>23</td>\n      <td>29.93</td>\n      <td>0.0</td>\n      <td>Mostly Cloudy</td>\n      <td>2023-02-16 02:51:00</td>\n    </tr>\n    <tr>\n      <th>3</th>\n      <td>1676519460</td>\n      <td>60</td>\n      <td>38</td>\n      <td>44</td>\n      <td>WSW</td>\n      <td>15</td>\n      <td>0</td>\n      <td>29.93</td>\n      <td>0.0</td>\n      <td>Mostly Cloudy</td>\n      <td>2023-02-16 03:51:00</td>\n    </tr>\n    <tr>\n      <th>4</th>\n      <td>1676523060</td>\n      <td>60</td>\n      <td>38</td>\n      <td>44</td>\n      <td>SW</td>\n      <td>13</td>\n      <td>0</td>\n      <td>29.94</td>\n      <td>0.0</td>\n      <td>Mostly Cloudy</td>\n      <td>2023-02-16 04:51:00</td>\n    </tr>\n  </tbody>\n</table>\n</div>"
     },
     "execution_count": 127,
     "metadata": {},
     "output_type": "execute_result"
    }
   ],
   "source": [
    "historical_weather_df['wind'] = historical_weather_df['wind'].fillna('MISSING')\n",
    "historical_weather_df.head(5)"
   ],
   "metadata": {
    "collapsed": false,
    "ExecuteTime": {
     "end_time": "2024-06-15T19:00:20.299943900Z",
     "start_time": "2024-06-15T19:00:20.257222200Z"
    }
   },
   "id": "8108c5f427299182"
  },
  {
   "cell_type": "markdown",
   "source": [
    "Remove columns that won't be used."
   ],
   "metadata": {
    "collapsed": false
   },
   "id": "a6c586e5b6876218"
  },
  {
   "cell_type": "code",
   "execution_count": 128,
   "outputs": [],
   "source": [
    "historical_weather_df = historical_weather_df.drop(columns=['dew_point_f', 'precip_in'])"
   ],
   "metadata": {
    "collapsed": false,
    "ExecuteTime": {
     "end_time": "2024-06-15T19:00:20.301618200Z",
     "start_time": "2024-06-15T19:00:20.260919Z"
    }
   },
   "id": "fcfd84e37c0d2254"
  },
  {
   "cell_type": "markdown",
   "source": [
    "Change units."
   ],
   "metadata": {
    "collapsed": false
   },
   "id": "4df96cfd9297d87e"
  },
  {
   "cell_type": "code",
   "execution_count": 129,
   "outputs": [
    {
     "data": {
      "text/plain": "    timestamp  humidity wind_direction weather_condition             datetime  \\\n0  1676508660        80              S            Cloudy  2023-02-16 00:51:00   \n1  1676512260        44             SW     Partly Cloudy  2023-02-16 01:51:00   \n2  1676515860        44            WSW     Mostly Cloudy  2023-02-16 02:51:00   \n3  1676519460        44            WSW     Mostly Cloudy  2023-02-16 03:51:00   \n4  1676523060        44             SW     Mostly Cloudy  2023-02-16 04:51:00   \n\n         temp  wind_speed  wind_gust     pressure  \n0  286.483333     1.34112    0.00000  1008.805581  \n1  289.261111     7.15264   10.72896  1012.869249  \n2  289.261111     7.15264   10.28192  1013.546527  \n3  288.705556     6.70560    0.00000  1013.546527  \n4  288.705556     5.81152    0.00000  1013.885166  ",
      "text/html": "<div>\n<style scoped>\n    .dataframe tbody tr th:only-of-type {\n        vertical-align: middle;\n    }\n\n    .dataframe tbody tr th {\n        vertical-align: top;\n    }\n\n    .dataframe thead th {\n        text-align: right;\n    }\n</style>\n<table border=\"1\" class=\"dataframe\">\n  <thead>\n    <tr style=\"text-align: right;\">\n      <th></th>\n      <th>timestamp</th>\n      <th>humidity</th>\n      <th>wind_direction</th>\n      <th>weather_condition</th>\n      <th>datetime</th>\n      <th>temp</th>\n      <th>wind_speed</th>\n      <th>wind_gust</th>\n      <th>pressure</th>\n    </tr>\n  </thead>\n  <tbody>\n    <tr>\n      <th>0</th>\n      <td>1676508660</td>\n      <td>80</td>\n      <td>S</td>\n      <td>Cloudy</td>\n      <td>2023-02-16 00:51:00</td>\n      <td>286.483333</td>\n      <td>1.34112</td>\n      <td>0.00000</td>\n      <td>1008.805581</td>\n    </tr>\n    <tr>\n      <th>1</th>\n      <td>1676512260</td>\n      <td>44</td>\n      <td>SW</td>\n      <td>Partly Cloudy</td>\n      <td>2023-02-16 01:51:00</td>\n      <td>289.261111</td>\n      <td>7.15264</td>\n      <td>10.72896</td>\n      <td>1012.869249</td>\n    </tr>\n    <tr>\n      <th>2</th>\n      <td>1676515860</td>\n      <td>44</td>\n      <td>WSW</td>\n      <td>Mostly Cloudy</td>\n      <td>2023-02-16 02:51:00</td>\n      <td>289.261111</td>\n      <td>7.15264</td>\n      <td>10.28192</td>\n      <td>1013.546527</td>\n    </tr>\n    <tr>\n      <th>3</th>\n      <td>1676519460</td>\n      <td>44</td>\n      <td>WSW</td>\n      <td>Mostly Cloudy</td>\n      <td>2023-02-16 03:51:00</td>\n      <td>288.705556</td>\n      <td>6.70560</td>\n      <td>0.00000</td>\n      <td>1013.546527</td>\n    </tr>\n    <tr>\n      <th>4</th>\n      <td>1676523060</td>\n      <td>44</td>\n      <td>SW</td>\n      <td>Mostly Cloudy</td>\n      <td>2023-02-16 04:51:00</td>\n      <td>288.705556</td>\n      <td>5.81152</td>\n      <td>0.00000</td>\n      <td>1013.885166</td>\n    </tr>\n  </tbody>\n</table>\n</div>"
     },
     "execution_count": 129,
     "metadata": {},
     "output_type": "execute_result"
    }
   ],
   "source": [
    "historical_weather_df['temp'] = (historical_weather_df['temperature_f'] - 32) * 5 / 9 + 273.15\n",
    "historical_weather_df = historical_weather_df.drop(columns=['temperature_f'])\n",
    "\n",
    "historical_weather_df['wind_speed'] = historical_weather_df['wind_speed_mph'] * 0.44704\n",
    "historical_weather_df = historical_weather_df.drop(columns=['wind_speed_mph'])\n",
    "\n",
    "historical_weather_df['wind_gust'] = historical_weather_df['wind_gust_mph'] * 0.44704\n",
    "historical_weather_df = historical_weather_df.drop(columns=['wind_gust_mph'])\n",
    "\n",
    "historical_weather_df['pressure'] = historical_weather_df['pressure_in'] * 33.8639\n",
    "historical_weather_df = historical_weather_df.drop(columns=['pressure_in'])\n",
    "\n",
    "historical_weather_df = historical_weather_df.rename(columns={'wind': 'wind_direction', 'humidity_%': 'humidity'})\n",
    "\n",
    "historical_weather_df.head(5)"
   ],
   "metadata": {
    "collapsed": false,
    "ExecuteTime": {
     "end_time": "2024-06-15T19:00:20.308630200Z",
     "start_time": "2024-06-15T19:00:20.265738300Z"
    }
   },
   "id": "263c51f462cbf74f"
  },
  {
   "cell_type": "markdown",
   "source": [
    "Weather condition coding to OpenWeatherAPI."
   ],
   "metadata": {
    "collapsed": false
   },
   "id": "1cc035c3d1c4aa8a"
  },
  {
   "cell_type": "code",
   "execution_count": 130,
   "outputs": [
    {
     "name": "stdout",
     "output_type": "stream",
     "text": [
      "['Cloudy' 'Partly Cloudy' 'Mostly Cloudy' 'Fair' 'Light Rain'\n",
      " 'Mostly Cloudy / Windy' 'Rain / Windy' 'Heavy Rain / Windy'\n",
      " 'Light Rain / Windy' 'Cloudy / Windy' 'Wintry Mix / Windy'\n",
      " 'Partly Cloudy / Windy' 'Fair / Windy' 'Rain' 'Light Rain with Thunder'\n",
      " 'T-Storm' 'Wintry Mix' 'Light Drizzle' 'Fog' 'Haze' 'Light Snow'\n",
      " 'Light Snow and Sleet' 'Snow and Sleet' 'Snow' 'Light Snow / Windy'\n",
      " 'Light Drizzle / Windy' 'T-Storm / Windy' 'Heavy Rain' 'Drizzle and Fog'\n",
      " 'Thunder' 'Thunder in the Vicinity' 'Haze / Windy' 'Smoke / Windy'\n",
      " 'Smoke' 'Heavy T-Storm' 'Mist' 'Heavy T-Storm / Windy' 'Heavy Rain / Fog'\n",
      " 'Mist / Windy' 'Light Freezing Rain' 'Snow / Fog' 'Heavy Snow / Fog'\n",
      " 'Light Rain / Fog' 'Thunder and Hail / Fog' 'Fog / Windy']\n"
     ]
    }
   ],
   "source": [
    "weather_conditions = historical_weather_df['weather_condition'].unique()\n",
    "print(weather_conditions)"
   ],
   "metadata": {
    "collapsed": false,
    "ExecuteTime": {
     "end_time": "2024-06-15T19:00:20.316076300Z",
     "start_time": "2024-06-15T19:00:20.279860900Z"
    }
   },
   "id": "def342ec36943deb"
  },
  {
   "cell_type": "markdown",
   "source": [
    "We have read and connected the weather condition expressions to those of OpenWeatherAPI."
   ],
   "metadata": {
    "collapsed": false
   },
   "id": "8ad9776f9e7a8bac"
  },
  {
   "cell_type": "code",
   "execution_count": 131,
   "outputs": [
    {
     "data": {
      "text/plain": "    timestamp  humidity wind_direction weather_condition             datetime  \\\n0  1676508660        80              S            Cloudy  2023-02-16 00:51:00   \n1  1676512260        44             SW     Partly Cloudy  2023-02-16 01:51:00   \n2  1676515860        44            WSW     Mostly Cloudy  2023-02-16 02:51:00   \n3  1676519460        44            WSW     Mostly Cloudy  2023-02-16 03:51:00   \n4  1676523060        44             SW     Mostly Cloudy  2023-02-16 04:51:00   \n\n         temp  wind_speed  wind_gust     pressure  weather_id  \n0  286.483333     1.34112    0.00000  1008.805581         804  \n1  289.261111     7.15264   10.72896  1012.869249         801  \n2  289.261111     7.15264   10.28192  1013.546527         803  \n3  288.705556     6.70560    0.00000  1013.546527         803  \n4  288.705556     5.81152    0.00000  1013.885166         803  ",
      "text/html": "<div>\n<style scoped>\n    .dataframe tbody tr th:only-of-type {\n        vertical-align: middle;\n    }\n\n    .dataframe tbody tr th {\n        vertical-align: top;\n    }\n\n    .dataframe thead th {\n        text-align: right;\n    }\n</style>\n<table border=\"1\" class=\"dataframe\">\n  <thead>\n    <tr style=\"text-align: right;\">\n      <th></th>\n      <th>timestamp</th>\n      <th>humidity</th>\n      <th>wind_direction</th>\n      <th>weather_condition</th>\n      <th>datetime</th>\n      <th>temp</th>\n      <th>wind_speed</th>\n      <th>wind_gust</th>\n      <th>pressure</th>\n      <th>weather_id</th>\n    </tr>\n  </thead>\n  <tbody>\n    <tr>\n      <th>0</th>\n      <td>1676508660</td>\n      <td>80</td>\n      <td>S</td>\n      <td>Cloudy</td>\n      <td>2023-02-16 00:51:00</td>\n      <td>286.483333</td>\n      <td>1.34112</td>\n      <td>0.00000</td>\n      <td>1008.805581</td>\n      <td>804</td>\n    </tr>\n    <tr>\n      <th>1</th>\n      <td>1676512260</td>\n      <td>44</td>\n      <td>SW</td>\n      <td>Partly Cloudy</td>\n      <td>2023-02-16 01:51:00</td>\n      <td>289.261111</td>\n      <td>7.15264</td>\n      <td>10.72896</td>\n      <td>1012.869249</td>\n      <td>801</td>\n    </tr>\n    <tr>\n      <th>2</th>\n      <td>1676515860</td>\n      <td>44</td>\n      <td>WSW</td>\n      <td>Mostly Cloudy</td>\n      <td>2023-02-16 02:51:00</td>\n      <td>289.261111</td>\n      <td>7.15264</td>\n      <td>10.28192</td>\n      <td>1013.546527</td>\n      <td>803</td>\n    </tr>\n    <tr>\n      <th>3</th>\n      <td>1676519460</td>\n      <td>44</td>\n      <td>WSW</td>\n      <td>Mostly Cloudy</td>\n      <td>2023-02-16 03:51:00</td>\n      <td>288.705556</td>\n      <td>6.70560</td>\n      <td>0.00000</td>\n      <td>1013.546527</td>\n      <td>803</td>\n    </tr>\n    <tr>\n      <th>4</th>\n      <td>1676523060</td>\n      <td>44</td>\n      <td>SW</td>\n      <td>Mostly Cloudy</td>\n      <td>2023-02-16 04:51:00</td>\n      <td>288.705556</td>\n      <td>5.81152</td>\n      <td>0.00000</td>\n      <td>1013.885166</td>\n      <td>803</td>\n    </tr>\n  </tbody>\n</table>\n</div>"
     },
     "execution_count": 131,
     "metadata": {},
     "output_type": "execute_result"
    }
   ],
   "source": [
    "mapping_df = pd.read_csv(\"weather_mapping.csv\")\n",
    "weather_id_dict = mapping_df.set_index('Description')['Weather ID'].to_dict()\n",
    "historical_weather_df['weather_id'] = historical_weather_df['weather_condition'].map(weather_id_dict)\n",
    "historical_weather_df.head(5)"
   ],
   "metadata": {
    "collapsed": false,
    "ExecuteTime": {
     "end_time": "2024-06-15T19:00:20.316076300Z",
     "start_time": "2024-06-15T19:00:20.283947300Z"
    }
   },
   "id": "cd2b13b1fbf6e859"
  },
  {
   "cell_type": "markdown",
   "source": [
    "Process wind_direction"
   ],
   "metadata": {
    "collapsed": false
   },
   "id": "3122d8ac19b75e88"
  },
  {
   "cell_type": "code",
   "execution_count": 132,
   "outputs": [
    {
     "name": "stdout",
     "output_type": "stream",
     "text": [
      "['S' 'SW' 'WSW' 'SSW' 'CALM' 'NW' 'VAR' 'SSE' 'NNW' 'WNW' 'W' 'ENE' 'E'\n",
      " 'N' 'NE' 'NNE' 'SE' 'ESE' 'MISSING']\n"
     ]
    }
   ],
   "source": [
    "print(historical_weather_df['wind_direction'].unique())"
   ],
   "metadata": {
    "collapsed": false,
    "ExecuteTime": {
     "end_time": "2024-06-15T19:00:20.316076300Z",
     "start_time": "2024-06-15T19:00:20.295080400Z"
    }
   },
   "id": "43229c713eb6d697"
  },
  {
   "cell_type": "markdown",
   "source": [
    "Save."
   ],
   "metadata": {
    "collapsed": false
   },
   "id": "8d583c53b16626c0"
  },
  {
   "cell_type": "code",
   "execution_count": 133,
   "outputs": [],
   "source": [
    "historical_weather_df.to_csv(\"weather_processed.csv\", index=False)"
   ],
   "metadata": {
    "collapsed": false,
    "ExecuteTime": {
     "end_time": "2024-06-15T19:00:20.450322900Z",
     "start_time": "2024-06-15T19:00:20.299943900Z"
    }
   },
   "id": "e4ecfc6393c731ce"
  }
 ],
 "metadata": {
  "kernelspec": {
   "display_name": "Python 3",
   "language": "python",
   "name": "python3"
  },
  "language_info": {
   "codemirror_mode": {
    "name": "ipython",
    "version": 2
   },
   "file_extension": ".py",
   "mimetype": "text/x-python",
   "name": "python",
   "nbconvert_exporter": "python",
   "pygments_lexer": "ipython2",
   "version": "2.7.6"
  }
 },
 "nbformat": 4,
 "nbformat_minor": 5
}
