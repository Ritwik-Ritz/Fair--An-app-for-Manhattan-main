{
 "cells": [
  {
   "cell_type": "markdown",
   "source": [
    "Read in"
   ],
   "metadata": {
    "collapsed": false
   },
   "id": "1f184725bd2bb908"
  },
  {
   "cell_type": "code",
   "execution_count": 75,
   "id": "initial_id",
   "metadata": {
    "collapsed": true,
    "ExecuteTime": {
     "end_time": "2024-06-15T21:09:54.570127300Z",
     "start_time": "2024-06-15T21:09:54.499842600Z"
    }
   },
   "outputs": [],
   "source": [
    "import pandas as pd\n",
    "import numpy as np"
   ]
  },
  {
   "cell_type": "code",
   "execution_count": 76,
   "outputs": [],
   "source": [
    "final_gird_dataset = pd.read_csv('final_grid_dataset_final.csv')"
   ],
   "metadata": {
    "collapsed": false,
    "ExecuteTime": {
     "end_time": "2024-06-15T21:09:57.519407600Z",
     "start_time": "2024-06-15T21:09:54.499842600Z"
    }
   },
   "id": "8d993534ce63267d"
  },
  {
   "cell_type": "code",
   "execution_count": 77,
   "outputs": [
    {
     "data": {
      "text/plain": "  grid_code  time_stamp  taxi_density  pm2.5_aqi  humidity wind_direction  \\\n0       0@7  1680310800           0.0  58.040796        62              S   \n1       0@8  1680310800           0.0  58.555084        62              S   \n2       0@9  1680310800           0.0  59.016016        62              S   \n3       1@9  1680310800           0.0  59.562896        62              S   \n4       3@6  1680310800           0.0  57.712418        62              S   \n\n         temp  wind_speed  wind_gust     pressure  weather_id  \n0  287.594444      4.4704        0.0  1009.482859         804  \n1  287.594444      4.4704        0.0  1009.482859         804  \n2  287.594444      4.4704        0.0  1009.482859         804  \n3  287.594444      4.4704        0.0  1009.482859         804  \n4  287.594444      4.4704        0.0  1009.482859         804  ",
      "text/html": "<div>\n<style scoped>\n    .dataframe tbody tr th:only-of-type {\n        vertical-align: middle;\n    }\n\n    .dataframe tbody tr th {\n        vertical-align: top;\n    }\n\n    .dataframe thead th {\n        text-align: right;\n    }\n</style>\n<table border=\"1\" class=\"dataframe\">\n  <thead>\n    <tr style=\"text-align: right;\">\n      <th></th>\n      <th>grid_code</th>\n      <th>time_stamp</th>\n      <th>taxi_density</th>\n      <th>pm2.5_aqi</th>\n      <th>humidity</th>\n      <th>wind_direction</th>\n      <th>temp</th>\n      <th>wind_speed</th>\n      <th>wind_gust</th>\n      <th>pressure</th>\n      <th>weather_id</th>\n    </tr>\n  </thead>\n  <tbody>\n    <tr>\n      <th>0</th>\n      <td>0@7</td>\n      <td>1680310800</td>\n      <td>0.0</td>\n      <td>58.040796</td>\n      <td>62</td>\n      <td>S</td>\n      <td>287.594444</td>\n      <td>4.4704</td>\n      <td>0.0</td>\n      <td>1009.482859</td>\n      <td>804</td>\n    </tr>\n    <tr>\n      <th>1</th>\n      <td>0@8</td>\n      <td>1680310800</td>\n      <td>0.0</td>\n      <td>58.555084</td>\n      <td>62</td>\n      <td>S</td>\n      <td>287.594444</td>\n      <td>4.4704</td>\n      <td>0.0</td>\n      <td>1009.482859</td>\n      <td>804</td>\n    </tr>\n    <tr>\n      <th>2</th>\n      <td>0@9</td>\n      <td>1680310800</td>\n      <td>0.0</td>\n      <td>59.016016</td>\n      <td>62</td>\n      <td>S</td>\n      <td>287.594444</td>\n      <td>4.4704</td>\n      <td>0.0</td>\n      <td>1009.482859</td>\n      <td>804</td>\n    </tr>\n    <tr>\n      <th>3</th>\n      <td>1@9</td>\n      <td>1680310800</td>\n      <td>0.0</td>\n      <td>59.562896</td>\n      <td>62</td>\n      <td>S</td>\n      <td>287.594444</td>\n      <td>4.4704</td>\n      <td>0.0</td>\n      <td>1009.482859</td>\n      <td>804</td>\n    </tr>\n    <tr>\n      <th>4</th>\n      <td>3@6</td>\n      <td>1680310800</td>\n      <td>0.0</td>\n      <td>57.712418</td>\n      <td>62</td>\n      <td>S</td>\n      <td>287.594444</td>\n      <td>4.4704</td>\n      <td>0.0</td>\n      <td>1009.482859</td>\n      <td>804</td>\n    </tr>\n  </tbody>\n</table>\n</div>"
     },
     "execution_count": 77,
     "metadata": {},
     "output_type": "execute_result"
    }
   ],
   "source": [
    "final_gird_dataset.head(5)"
   ],
   "metadata": {
    "collapsed": false,
    "ExecuteTime": {
     "end_time": "2024-06-15T21:09:57.531587500Z",
     "start_time": "2024-06-15T21:09:57.520454400Z"
    }
   },
   "id": "bf9d2e5b0e718413"
  },
  {
   "cell_type": "markdown",
   "source": [
    "Define the transformers"
   ],
   "metadata": {
    "collapsed": false
   },
   "id": "596ee64e940233f4"
  },
  {
   "cell_type": "code",
   "execution_count": 78,
   "outputs": [
    {
     "name": "stdout",
     "output_type": "stream",
     "text": [
      "['S' 'SSW' 'SW' 'SSE' 'WNW' 'NNW' 'CALM' 'WSW' 'NW' 'N' 'NE' 'ENE' 'E'\n",
      " 'ESE' 'VAR' 'SE' 'NNE' 'W' 'MISSING']\n"
     ]
    }
   ],
   "source": [
    "print(final_gird_dataset['wind_direction'].unique())"
   ],
   "metadata": {
    "collapsed": false,
    "ExecuteTime": {
     "end_time": "2024-06-15T21:09:57.664597300Z",
     "start_time": "2024-06-15T21:09:57.534757800Z"
    }
   },
   "id": "b450f1d6cdebe789"
  },
  {
   "cell_type": "code",
   "execution_count": 79,
   "outputs": [],
   "source": [
    "from sklearn.base import BaseEstimator, TransformerMixin\n",
    "\n",
    "class CustomWindDirectionEncoder(BaseEstimator, TransformerMixin):\n",
    "    def __init__(self):\n",
    "        self.directional_strings = ['S', 'SSW', 'SW', 'SSE', 'WNW', 'NNW', 'WSW', 'NW', 'N', 'NE', 'ENE', 'E', 'ESE', 'SE', 'NNE', 'W']\n",
    "    \n",
    "    def fit(self, X, y=None):\n",
    "        return self\n",
    "\n",
    "    def transform(self, X):\n",
    "        if not isinstance(X, pd.DataFrame):\n",
    "            X = pd.DataFrame(X)\n",
    "\n",
    "        X = X.copy()\n",
    "        X['wind_direction'] = X['wind_direction'].apply(lambda x: x if x in self.directional_strings else 'OTHER')\n",
    "\n",
    "        X_encoded = pd.get_dummies(X, columns=['wind_direction'], prefix='', prefix_sep='')\n",
    "\n",
    "        for col in self.directional_strings:\n",
    "            if col not in X_encoded.columns:\n",
    "                X_encoded[col] = 0\n",
    "\n",
    "        X_encoded = X_encoded[self.directional_strings]\n",
    "        X_encoded = X_encoded.astype(int)\n",
    "\n",
    "        return X_encoded"
   ],
   "metadata": {
    "collapsed": false,
    "ExecuteTime": {
     "end_time": "2024-06-15T21:09:57.666269800Z",
     "start_time": "2024-06-15T21:09:57.624771200Z"
    }
   },
   "id": "51c31c08cb3db33c"
  },
  {
   "cell_type": "code",
   "execution_count": 80,
   "outputs": [
    {
     "name": "stdout",
     "output_type": "stream",
     "text": [
      "[804 500 741 803 801 800 200 501 721 300 211 502 711 212 701 600 616 612\n",
      " 511 601 602 301]\n"
     ]
    }
   ],
   "source": [
    "print(final_gird_dataset['weather_id'].unique())"
   ],
   "metadata": {
    "collapsed": false,
    "ExecuteTime": {
     "end_time": "2024-06-15T21:09:57.666269800Z",
     "start_time": "2024-06-15T21:09:57.631030900Z"
    }
   },
   "id": "f4238a00b3795656"
  },
  {
   "cell_type": "code",
   "execution_count": 81,
   "outputs": [],
   "source": [
    "class CustomWeatherIdEncoder(BaseEstimator, TransformerMixin):\n",
    "    def __init__(self):\n",
    "        self.weather_ids = [804, 500, 741, 803, 801, 800, 200, 501, 721, 300, 211, 502, 711, 212, 701, 600, 616, 612, 511, 601, 602, 301]\n",
    "\n",
    "    def fit(self, X, y=None):\n",
    "        return self\n",
    "\n",
    "    def transform(self, X):\n",
    "        if not isinstance(X, pd.DataFrame):\n",
    "            X = pd.DataFrame(X)\n",
    "\n",
    "        X_encoded = pd.get_dummies(X, columns=['weather_id'], prefix='', prefix_sep='')\n",
    "\n",
    "        for weather_id in self.weather_ids:\n",
    "            if str(weather_id) not in X_encoded.columns:\n",
    "                X_encoded[str(weather_id)] = 0\n",
    "\n",
    "        X_encoded = X_encoded[[str(weather_id) for weather_id in self.weather_ids]]\n",
    "        X_encoded = X_encoded.astype(int)\n",
    "\n",
    "        return X_encoded"
   ],
   "metadata": {
    "collapsed": false,
    "ExecuteTime": {
     "end_time": "2024-06-15T21:09:57.667284200Z",
     "start_time": "2024-06-15T21:09:57.653004500Z"
    }
   },
   "id": "8748dde2490469c7"
  },
  {
   "cell_type": "markdown",
   "source": [
    "Split the datasets"
   ],
   "metadata": {
    "collapsed": false
   },
   "id": "d300a4f468ccad7a"
  },
  {
   "cell_type": "code",
   "execution_count": 82,
   "outputs": [],
   "source": [
    "from sklearn.model_selection import train_test_split\n",
    "\n",
    "train_sets = {}\n",
    "test_sets = {}\n",
    "\n",
    "for grid_code, group in final_gird_dataset.groupby('grid_code'):\n",
    "    train_set, test_set = train_test_split(group, test_size=0.2, random_state=42)\n",
    "    train_sets[grid_code] = train_set\n",
    "    test_sets[grid_code] = test_set"
   ],
   "metadata": {
    "collapsed": false,
    "ExecuteTime": {
     "end_time": "2024-06-15T21:09:58.966240Z",
     "start_time": "2024-06-15T21:09:57.663474100Z"
    }
   },
   "id": "3932c7be0101693c"
  },
  {
   "cell_type": "markdown",
   "source": [
    "Select 3% of grid_codes as samples"
   ],
   "metadata": {
    "collapsed": false
   },
   "id": "b2d5aa5a5fdcec08"
  },
  {
   "cell_type": "code",
   "execution_count": 83,
   "outputs": [],
   "source": [
    "total_grids = len(train_sets)\n",
    "sample_size = max(1, int(0.03 * total_grids))\n",
    "\n",
    "np.random.seed(42)\n",
    "sampled_grid_codes = np.random.choice(list(train_sets.keys()), sample_size, replace=False)"
   ],
   "metadata": {
    "collapsed": false,
    "ExecuteTime": {
     "end_time": "2024-06-15T21:09:58.979027900Z",
     "start_time": "2024-06-15T21:09:58.970935700Z"
    }
   },
   "id": "c6bf54aef9fef076"
  },
  {
   "cell_type": "markdown",
   "source": [
    "Models to predict AQI"
   ],
   "metadata": {
    "collapsed": false
   },
   "id": "73e5dc800a9a5b7"
  },
  {
   "cell_type": "code",
   "execution_count": 84,
   "outputs": [],
   "source": [
    "aqi_model_inputs = ['time_stamp', 'taxi_density', 'humidity', 'wind_direction', 'temp', 'wind_speed', 'wind_gust', 'pressure', 'weather_id']\n",
    "aqi_model_output = 'pm2.5_aqi'"
   ],
   "metadata": {
    "collapsed": false,
    "ExecuteTime": {
     "end_time": "2024-06-15T21:09:58.989204100Z",
     "start_time": "2024-06-15T21:09:58.976169400Z"
    }
   },
   "id": "2f73dfe60d87e001"
  },
  {
   "cell_type": "markdown",
   "source": [
    "Random Forest"
   ],
   "metadata": {
    "collapsed": false
   },
   "id": "dd5518ecb0cdd876"
  },
  {
   "cell_type": "code",
   "execution_count": 85,
   "outputs": [],
   "source": [
    "from sklearn.ensemble import RandomForestRegressor\n",
    "from sklearn.metrics import mean_squared_error"
   ],
   "metadata": {
    "collapsed": false,
    "ExecuteTime": {
     "end_time": "2024-06-15T21:09:58.999478400Z",
     "start_time": "2024-06-15T21:09:58.988142500Z"
    }
   },
   "id": "91cdfe991f0eee8b"
  },
  {
   "cell_type": "code",
   "execution_count": 86,
   "outputs": [
    {
     "name": "stdout",
     "output_type": "stream",
     "text": [
      "Grid Code: 22@25, RMSE: 9.658714165306263\n",
      "Grid Code: 12@17, RMSE: 6.91271124987585\n",
      "Grid Code: 25@27, RMSE: 10.855794188532194\n",
      "Grid Code: 6@18, RMSE: 11.508451923249963\n",
      "Grid Code: 13@13, RMSE: 15.17454778357028\n",
      "Grid Code: 6@13, RMSE: 12.919954360199153\n",
      "Grid Code: 10@23, RMSE: 13.084759813487482\n",
      "Grid Code: 13@14, RMSE: 25.716592896465144\n",
      "Grid Code: 23@41, RMSE: 15.994309650958447\n",
      "Grid Code: 16@29, RMSE: 11.981178625656527\n",
      "Average RMSE: 13.38070146573013\n"
     ]
    }
   ],
   "source": [
    "wind_direction_encoder = CustomWindDirectionEncoder()\n",
    "weather_id_encoder = CustomWeatherIdEncoder()\n",
    "\n",
    "rf_aqi_models = {}\n",
    "rf_aqi_rmses = []\n",
    "\n",
    "for grid_code in sampled_grid_codes:\n",
    "    train_set = train_sets[grid_code]\n",
    "    test_set = test_sets[grid_code]\n",
    "\n",
    "    X_train = train_set[aqi_model_inputs]\n",
    "    y_train = train_set[aqi_model_output]\n",
    "    X_test = test_set[aqi_model_inputs]\n",
    "    y_test = test_set[aqi_model_output]\n",
    "\n",
    "    X_train_wind_direction_encoded = wind_direction_encoder.fit_transform(X_train[['wind_direction']])\n",
    "    X_train_weather_id_encoded = weather_id_encoder.fit_transform(X_train[['weather_id']])\n",
    "    X_test_wind_direction_encoded = wind_direction_encoder.transform(X_test[['wind_direction']])\n",
    "    X_test_weather_id_encoded = weather_id_encoder.transform(X_test[['weather_id']])\n",
    "\n",
    "    X_train_encoded = pd.concat([X_train.drop(columns=['wind_direction', 'weather_id']).reset_index(drop=True), \n",
    "                                 X_train_wind_direction_encoded.reset_index(drop=True), \n",
    "                                 X_train_weather_id_encoded.reset_index(drop=True)], axis=1)\n",
    "    X_test_encoded = pd.concat([X_test.drop(columns=['wind_direction', 'weather_id']).reset_index(drop=True), \n",
    "                                X_test_wind_direction_encoded.reset_index(drop=True), \n",
    "                                X_test_weather_id_encoded.reset_index(drop=True)], axis=1)\n",
    "\n",
    "    model = RandomForestRegressor(random_state=42)\n",
    "    model.fit(X_train_encoded, y_train)\n",
    "    rf_aqi_models[grid_code] = model\n",
    "\n",
    "    y_pred = model.predict(X_test_encoded)\n",
    "    rmse = np.sqrt(mean_squared_error(y_test, y_pred))\n",
    "    rf_aqi_rmses.append(rmse)\n",
    "    print(f'Grid Code: {grid_code}, RMSE: {rmse}')\n",
    "\n",
    "average_rmse = np.mean(rf_aqi_rmses)\n",
    "print(f'Average RMSE: {average_rmse}')"
   ],
   "metadata": {
    "collapsed": false,
    "ExecuteTime": {
     "end_time": "2024-06-15T21:10:33.526041600Z",
     "start_time": "2024-06-15T21:09:59.001479400Z"
    }
   },
   "id": "f801984c13327add"
  },
  {
   "cell_type": "markdown",
   "source": [
    "Linear Regression"
   ],
   "metadata": {
    "collapsed": false
   },
   "id": "e5de335cd88b86b5"
  },
  {
   "cell_type": "code",
   "execution_count": 87,
   "outputs": [],
   "source": [
    "from sklearn.linear_model import LinearRegression"
   ],
   "metadata": {
    "collapsed": false,
    "ExecuteTime": {
     "end_time": "2024-06-15T21:10:33.527073300Z",
     "start_time": "2024-06-15T21:10:33.521870400Z"
    }
   },
   "id": "d79d3a936cb92a00"
  },
  {
   "cell_type": "code",
   "execution_count": 88,
   "outputs": [
    {
     "name": "stdout",
     "output_type": "stream",
     "text": [
      "Grid Code: 22@25, RMSE: 26.245201767365735\n",
      "Grid Code: 12@17, RMSE: 19.729409339722835\n",
      "Grid Code: 25@27, RMSE: 21.599045293415376\n",
      "Grid Code: 6@18, RMSE: 23.427375296369227\n",
      "Grid Code: 13@13, RMSE: 29.49850078673895\n",
      "Grid Code: 6@13, RMSE: 26.420300933979764\n",
      "Grid Code: 10@23, RMSE: 24.717979773078454\n",
      "Grid Code: 13@14, RMSE: 45.34018877473013\n",
      "Grid Code: 23@41, RMSE: 31.81207144854486\n",
      "Grid Code: 16@29, RMSE: 25.32207463240675\n",
      "Average RMSE: 27.41121480463521\n"
     ]
    }
   ],
   "source": [
    "wind_direction_encoder = CustomWindDirectionEncoder()\n",
    "weather_id_encoder = CustomWeatherIdEncoder()\n",
    "\n",
    "lr_aqi_models = {}\n",
    "lr_aqi_rmses = []\n",
    "\n",
    "for grid_code in sampled_grid_codes:\n",
    "    train_set = train_sets[grid_code]\n",
    "    test_set = test_sets[grid_code]\n",
    "\n",
    "    X_train = train_set[aqi_model_inputs]\n",
    "    y_train = train_set[aqi_model_output]\n",
    "    X_test = test_set[aqi_model_inputs]\n",
    "    y_test = test_set[aqi_model_output]\n",
    "\n",
    "    X_train_wind_direction_encoded = wind_direction_encoder.fit_transform(X_train[['wind_direction']])\n",
    "    X_train_weather_id_encoded = weather_id_encoder.fit_transform(X_train[['weather_id']])\n",
    "    X_test_wind_direction_encoded = wind_direction_encoder.transform(X_test[['wind_direction']])\n",
    "    X_test_weather_id_encoded = weather_id_encoder.transform(X_test[['weather_id']])\n",
    "\n",
    "    X_train_encoded = pd.concat([X_train.drop(columns=['wind_direction', 'weather_id']).reset_index(drop=True), \n",
    "                                 X_train_wind_direction_encoded.reset_index(drop=True), \n",
    "                                 X_train_weather_id_encoded.reset_index(drop=True)], axis=1)\n",
    "    X_test_encoded = pd.concat([X_test.drop(columns=['wind_direction', 'weather_id']).reset_index(drop=True), \n",
    "                                X_test_wind_direction_encoded.reset_index(drop=True), \n",
    "                                X_test_weather_id_encoded.reset_index(drop=True)], axis=1)\n",
    "\n",
    "    model = LinearRegression()\n",
    "    model.fit(X_train_encoded, y_train)\n",
    "    lr_aqi_models[grid_code] = model\n",
    "\n",
    "    y_pred = model.predict(X_test_encoded)\n",
    "    rmse = np.sqrt(mean_squared_error(y_test, y_pred))\n",
    "    lr_aqi_rmses.append(rmse)\n",
    "    print(f'Grid Code: {grid_code}, RMSE: {rmse}')\n",
    "\n",
    "average_rmse = np.mean(lr_aqi_rmses)\n",
    "print(f'Average RMSE: {average_rmse}')"
   ],
   "metadata": {
    "collapsed": false,
    "ExecuteTime": {
     "end_time": "2024-06-15T21:10:33.784555500Z",
     "start_time": "2024-06-15T21:10:33.528897700Z"
    }
   },
   "id": "a2d39e043a986d20"
  },
  {
   "cell_type": "markdown",
   "source": [
    "Random forest is always a good choice."
   ],
   "metadata": {
    "collapsed": false
   },
   "id": "a04a978975161993"
  },
  {
   "cell_type": "markdown",
   "source": [
    "Models to predict taxi_density"
   ],
   "metadata": {
    "collapsed": false
   },
   "id": "f3977a5a95af05f3"
  },
  {
   "cell_type": "code",
   "execution_count": 89,
   "outputs": [],
   "source": [
    "taxi_model_inputs = ['time_stamp', 'humidity', 'wind_direction', 'temp', 'wind_speed', 'wind_gust', 'pressure', 'weather_id']\n",
    "taxi_model_output = 'taxi_density'"
   ],
   "metadata": {
    "collapsed": false,
    "ExecuteTime": {
     "end_time": "2024-06-15T21:10:33.794614200Z",
     "start_time": "2024-06-15T21:10:33.783360600Z"
    }
   },
   "id": "6abf3ae8931db6d0"
  },
  {
   "cell_type": "code",
   "execution_count": 90,
   "outputs": [
    {
     "name": "stdout",
     "output_type": "stream",
     "text": [
      "Grid Code: 22@25, RMSE: 2.0693280087603427\n",
      "Grid Code: 12@17, RMSE: 257.30898689639696\n",
      "Grid Code: 25@27, RMSE: 4.3794484379057925\n",
      "Grid Code: 6@18, RMSE: 76.28458645531391\n",
      "Grid Code: 13@13, RMSE: 91.0547488918708\n",
      "Grid Code: 6@13, RMSE: 209.6403323334904\n",
      "Grid Code: 10@23, RMSE: 153.6096526572783\n",
      "Grid Code: 13@14, RMSE: 102.9333788248887\n",
      "Grid Code: 23@41, RMSE: 29.35764774982325\n",
      "Grid Code: 16@29, RMSE: 71.26066191624943\n",
      "Average Taxi RMSE: 99.7898772171978\n"
     ]
    }
   ],
   "source": [
    "rf_taxi_models = {}\n",
    "rf_taxi_rmses = []\n",
    "\n",
    "for grid_code in sampled_grid_codes:\n",
    "    train_set = train_sets[grid_code]\n",
    "    test_set = test_sets[grid_code]\n",
    "\n",
    "    X_train = train_set[taxi_model_inputs]\n",
    "    y_train = train_set[taxi_model_output]\n",
    "    X_test = test_set[taxi_model_inputs]\n",
    "    y_test = test_set[taxi_model_output]\n",
    "\n",
    "    X_train_wind_direction_encoded = wind_direction_encoder.fit_transform(X_train[['wind_direction']])\n",
    "    X_train_weather_id_encoded = weather_id_encoder.fit_transform(X_train[['weather_id']])\n",
    "    X_test_wind_direction_encoded = wind_direction_encoder.transform(X_test[['wind_direction']])\n",
    "    X_test_weather_id_encoded = weather_id_encoder.transform(X_test[['weather_id']])\n",
    "\n",
    "    X_train_encoded = pd.concat([X_train.drop(columns=['wind_direction', 'weather_id']).reset_index(drop=True), \n",
    "                                 X_train_wind_direction_encoded.reset_index(drop=True), \n",
    "                                 X_train_weather_id_encoded.reset_index(drop=True)], axis=1)\n",
    "    X_test_encoded = pd.concat([X_test.drop(columns=['wind_direction', 'weather_id']).reset_index(drop=True), \n",
    "                                X_test_wind_direction_encoded.reset_index(drop=True), \n",
    "                                X_test_weather_id_encoded.reset_index(drop=True)], axis=1)\n",
    "\n",
    "    model = RandomForestRegressor(random_state=42)\n",
    "    model.fit(X_train_encoded, y_train)\n",
    "    rf_taxi_models[grid_code] = model\n",
    "\n",
    "    y_pred = model.predict(X_test_encoded)\n",
    "    rmse = np.sqrt(mean_squared_error(y_test, y_pred))\n",
    "    rf_taxi_rmses.append(rmse)\n",
    "    print(f'Grid Code: {grid_code}, RMSE: {rmse}')\n",
    "\n",
    "average_taxi_rmse = np.mean(rf_taxi_rmses)\n",
    "print(f'Average Taxi RMSE: {average_taxi_rmse}')"
   ],
   "metadata": {
    "collapsed": false,
    "ExecuteTime": {
     "end_time": "2024-06-15T21:12:01.860866300Z",
     "start_time": "2024-06-15T21:11:31.590629800Z"
    }
   },
   "id": "5faf6a00a637a94e"
  },
  {
   "cell_type": "markdown",
   "source": [
    "Consider that taxi density can vary from 0 to 3000, this much of error is allowable."
   ],
   "metadata": {
    "collapsed": false
   },
   "id": "ad1d0cc0a50bc206"
  },
  {
   "cell_type": "markdown",
   "source": [
    "Test cascaded models"
   ],
   "metadata": {
    "collapsed": false
   },
   "id": "be9b6268380720df"
  },
  {
   "cell_type": "code",
   "execution_count": 91,
   "outputs": [
    {
     "name": "stdout",
     "output_type": "stream",
     "text": [
      "Grid Code: 22@25, Cascaded RMSE: 9.81327302681314\n",
      "Grid Code: 12@17, Cascaded RMSE: 7.063279872613036\n",
      "Grid Code: 25@27, Cascaded RMSE: 10.954010144729002\n",
      "Grid Code: 6@18, Cascaded RMSE: 11.887080433145057\n",
      "Grid Code: 13@13, Cascaded RMSE: 15.66595141973561\n",
      "Grid Code: 6@13, Cascaded RMSE: 13.444779264670538\n",
      "Grid Code: 10@23, Cascaded RMSE: 13.377397623782878\n",
      "Grid Code: 13@14, Cascaded RMSE: 26.190757814929295\n",
      "Grid Code: 23@41, Cascaded RMSE: 16.359913744517872\n",
      "Grid Code: 16@29, Cascaded RMSE: 12.479241628792803\n",
      "Average Cascaded RMSE: 13.723568497372924\n"
     ]
    }
   ],
   "source": [
    "cascaded_models = {}\n",
    "cascaded_rmses = []\n",
    "\n",
    "for grid_code in sampled_grid_codes:\n",
    "    train_set = train_sets[grid_code]\n",
    "    test_set = test_sets[grid_code]\n",
    "\n",
    "    X_test_taxi = test_set[taxi_model_inputs]\n",
    "    y_test_aqi = test_set[aqi_model_output]\n",
    "\n",
    "    X_test_wind_direction_encoded = wind_direction_encoder.transform(X_test_taxi[['wind_direction']])\n",
    "    X_test_weather_id_encoded = weather_id_encoder.transform(X_test_taxi[['weather_id']])\n",
    "\n",
    "    X_test_taxi_encoded = pd.concat([X_test_taxi.drop(columns=['wind_direction', 'weather_id']).reset_index(drop=True), \n",
    "                                     X_test_wind_direction_encoded.reset_index(drop=True), \n",
    "                                     X_test_weather_id_encoded.reset_index(drop=True)], axis=1)\n",
    "\n",
    "    taxi_model = rf_taxi_models[grid_code]\n",
    "    predicted_taxi_density = taxi_model.predict(X_test_taxi_encoded)\n",
    "\n",
    "    X_test_aqi = test_set[aqi_model_inputs].copy()\n",
    "    X_test_aqi['taxi_density'] = predicted_taxi_density\n",
    "\n",
    "    X_test_wind_direction_encoded = wind_direction_encoder.transform(X_test_aqi[['wind_direction']])\n",
    "    X_test_weather_id_encoded = weather_id_encoder.transform(X_test_aqi[['weather_id']])\n",
    "\n",
    "    X_test_aqi_encoded = pd.concat([X_test_aqi.drop(columns=['wind_direction', 'weather_id']).reset_index(drop=True), \n",
    "                                    X_test_wind_direction_encoded.reset_index(drop=True), \n",
    "                                    X_test_weather_id_encoded.reset_index(drop=True)], axis=1)\n",
    "\n",
    "    aqi_model = rf_aqi_models[grid_code]\n",
    "    predicted_aqi = aqi_model.predict(X_test_aqi_encoded)\n",
    "\n",
    "    rmse = np.sqrt(mean_squared_error(y_test_aqi, predicted_aqi))\n",
    "    cascaded_rmses.append(rmse)\n",
    "    print(f'Grid Code: {grid_code}, Cascaded RMSE: {rmse}')\n",
    "\n",
    "    cascaded_models[grid_code] = {\n",
    "        'taxi_model': taxi_model,\n",
    "        'aqi_model': aqi_model\n",
    "    }\n",
    "\n",
    "average_cascaded_rmse = np.mean(cascaded_rmses)\n",
    "print(f'Average Cascaded RMSE: {average_cascaded_rmse}')"
   ],
   "metadata": {
    "collapsed": false,
    "ExecuteTime": {
     "end_time": "2024-06-15T21:21:21.078873900Z",
     "start_time": "2024-06-15T21:21:20.168180800Z"
    }
   },
   "id": "5f36abf59d1e53bf"
  },
  {
   "cell_type": "markdown",
   "source": [
    "So we decide to use random forest model."
   ],
   "metadata": {
    "collapsed": false
   },
   "id": "177ef85753389048"
  }
 ],
 "metadata": {
  "kernelspec": {
   "display_name": "Python 3",
   "language": "python",
   "name": "python3"
  },
  "language_info": {
   "codemirror_mode": {
    "name": "ipython",
    "version": 2
   },
   "file_extension": ".py",
   "mimetype": "text/x-python",
   "name": "python",
   "nbconvert_exporter": "python",
   "pygments_lexer": "ipython2",
   "version": "2.7.6"
  }
 },
 "nbformat": 4,
 "nbformat_minor": 5
}
