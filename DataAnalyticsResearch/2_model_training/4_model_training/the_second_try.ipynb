{
 "cells": [
  {
   "cell_type": "markdown",
   "source": [
    "The previous model is too big. Let's regard grid_code as one of the input features."
   ],
   "metadata": {
    "collapsed": false
   },
   "id": "c1f635e1ae598ced"
  },
  {
   "cell_type": "code",
   "execution_count": 1,
   "outputs": [],
   "source": [
    "import pandas as pd\n",
    "import numpy as np\n",
    "from sklearn.model_selection import train_test_split\n",
    "from sklearn.ensemble import RandomForestRegressor\n",
    "from sklearn.pipeline import Pipeline\n",
    "from sklearn.compose import ColumnTransformer\n",
    "from sklearn.preprocessing import StandardScaler\n",
    "from sklearn.metrics import mean_squared_error"
   ],
   "metadata": {
    "collapsed": false,
    "ExecuteTime": {
     "end_time": "2024-06-17T01:19:58.541221300Z",
     "start_time": "2024-06-17T01:19:57.461282200Z"
    }
   },
   "id": "d0291ec8af71e342"
  },
  {
   "cell_type": "code",
   "execution_count": 2,
   "id": "initial_id",
   "metadata": {
    "collapsed": true,
    "ExecuteTime": {
     "end_time": "2024-06-17T01:20:01.069420300Z",
     "start_time": "2024-06-17T01:19:58.536213300Z"
    }
   },
   "outputs": [
    {
     "data": {
      "text/plain": "  grid_code  time_stamp  taxi_density  pm2.5_aqi  humidity wind_direction  \\\n0       0@7  1680310800           0.0  52.226051        62              S   \n1       0@8  1680310800           0.0  52.226051        62              S   \n2       0@9  1680310800           0.0  68.886052        62              S   \n3       1@9  1680310800           0.0  68.886052        62              S   \n4       3@6  1680310800           0.0  52.226051        62              S   \n\n         temp  wind_speed  wind_gust     pressure  weather_id  \n0  287.594444      4.4704        0.0  1009.482859         804  \n1  287.594444      4.4704        0.0  1009.482859         804  \n2  287.594444      4.4704        0.0  1009.482859         804  \n3  287.594444      4.4704        0.0  1009.482859         804  \n4  287.594444      4.4704        0.0  1009.482859         804  ",
      "text/html": "<div>\n<style scoped>\n    .dataframe tbody tr th:only-of-type {\n        vertical-align: middle;\n    }\n\n    .dataframe tbody tr th {\n        vertical-align: top;\n    }\n\n    .dataframe thead th {\n        text-align: right;\n    }\n</style>\n<table border=\"1\" class=\"dataframe\">\n  <thead>\n    <tr style=\"text-align: right;\">\n      <th></th>\n      <th>grid_code</th>\n      <th>time_stamp</th>\n      <th>taxi_density</th>\n      <th>pm2.5_aqi</th>\n      <th>humidity</th>\n      <th>wind_direction</th>\n      <th>temp</th>\n      <th>wind_speed</th>\n      <th>wind_gust</th>\n      <th>pressure</th>\n      <th>weather_id</th>\n    </tr>\n  </thead>\n  <tbody>\n    <tr>\n      <th>0</th>\n      <td>0@7</td>\n      <td>1680310800</td>\n      <td>0.0</td>\n      <td>52.226051</td>\n      <td>62</td>\n      <td>S</td>\n      <td>287.594444</td>\n      <td>4.4704</td>\n      <td>0.0</td>\n      <td>1009.482859</td>\n      <td>804</td>\n    </tr>\n    <tr>\n      <th>1</th>\n      <td>0@8</td>\n      <td>1680310800</td>\n      <td>0.0</td>\n      <td>52.226051</td>\n      <td>62</td>\n      <td>S</td>\n      <td>287.594444</td>\n      <td>4.4704</td>\n      <td>0.0</td>\n      <td>1009.482859</td>\n      <td>804</td>\n    </tr>\n    <tr>\n      <th>2</th>\n      <td>0@9</td>\n      <td>1680310800</td>\n      <td>0.0</td>\n      <td>68.886052</td>\n      <td>62</td>\n      <td>S</td>\n      <td>287.594444</td>\n      <td>4.4704</td>\n      <td>0.0</td>\n      <td>1009.482859</td>\n      <td>804</td>\n    </tr>\n    <tr>\n      <th>3</th>\n      <td>1@9</td>\n      <td>1680310800</td>\n      <td>0.0</td>\n      <td>68.886052</td>\n      <td>62</td>\n      <td>S</td>\n      <td>287.594444</td>\n      <td>4.4704</td>\n      <td>0.0</td>\n      <td>1009.482859</td>\n      <td>804</td>\n    </tr>\n    <tr>\n      <th>4</th>\n      <td>3@6</td>\n      <td>1680310800</td>\n      <td>0.0</td>\n      <td>52.226051</td>\n      <td>62</td>\n      <td>S</td>\n      <td>287.594444</td>\n      <td>4.4704</td>\n      <td>0.0</td>\n      <td>1009.482859</td>\n      <td>804</td>\n    </tr>\n  </tbody>\n</table>\n</div>"
     },
     "execution_count": 2,
     "metadata": {},
     "output_type": "execute_result"
    }
   ],
   "source": [
    "final_gird_dataset = pd.read_csv('final_grid_dataset_final.csv')\n",
    "final_gird_dataset.head(5)"
   ]
  },
  {
   "cell_type": "code",
   "execution_count": 3,
   "outputs": [],
   "source": [
    "from sklearn.base import BaseEstimator, TransformerMixin\n",
    "\n",
    "class WindDirectionEncoder(BaseEstimator, TransformerMixin):\n",
    "    def __init__(self):\n",
    "        self.directional_strings = ['S', 'SSW', 'SW', 'SSE', 'WNW', 'NNW', 'WSW', 'NW', 'N', 'NE', 'ENE', 'E', 'ESE', 'SE', 'NNE', 'W']\n",
    "    \n",
    "    def fit(self, X, y=None):\n",
    "        return self\n",
    "\n",
    "    def transform(self, X):\n",
    "        if not isinstance(X, pd.DataFrame):\n",
    "            X = pd.DataFrame(X)\n",
    "\n",
    "        X = X.copy()\n",
    "        X['wind_direction'] = X['wind_direction'].apply(lambda x: x if x in self.directional_strings else 'OTHER')\n",
    "\n",
    "        X_encoded = pd.get_dummies(X, columns=['wind_direction'], prefix='', prefix_sep='')\n",
    "\n",
    "        for col in self.directional_strings:\n",
    "            if col not in X_encoded.columns:\n",
    "                X_encoded[col] = 0\n",
    "\n",
    "        X_encoded = X_encoded[self.directional_strings]\n",
    "        X_encoded = X_encoded.astype(int)\n",
    "\n",
    "        return X_encoded"
   ],
   "metadata": {
    "collapsed": false,
    "ExecuteTime": {
     "end_time": "2024-06-17T01:20:01.081495500Z",
     "start_time": "2024-06-17T01:20:01.075185800Z"
    }
   },
   "id": "c25831fd7541f661"
  },
  {
   "cell_type": "code",
   "execution_count": 4,
   "outputs": [],
   "source": [
    "class WeatherIdEncoder(BaseEstimator, TransformerMixin):\n",
    "    def __init__(self):\n",
    "        self.weather_ids = [804, 500, 741, 803, 801, 800, 200, 501, 721, 300, 211, 502, 711, 212, 701, 600, 616, 612, 511, 601, 602, 301]\n",
    "\n",
    "    def fit(self, X, y=None):\n",
    "        return self\n",
    "\n",
    "    def transform(self, X):\n",
    "        if not isinstance(X, pd.DataFrame):\n",
    "            X = pd.DataFrame(X)\n",
    "\n",
    "        X_encoded = pd.get_dummies(X, columns=['weather_id'], prefix='', prefix_sep='')\n",
    "\n",
    "        for weather_id in self.weather_ids:\n",
    "            if str(weather_id) not in X_encoded.columns:\n",
    "                X_encoded[str(weather_id)] = 0\n",
    "\n",
    "        X_encoded = X_encoded[[str(weather_id) for weather_id in self.weather_ids]]\n",
    "        X_encoded = X_encoded.astype(int)\n",
    "\n",
    "        return X_encoded"
   ],
   "metadata": {
    "collapsed": false,
    "ExecuteTime": {
     "end_time": "2024-06-17T01:20:01.100212800Z",
     "start_time": "2024-06-17T01:20:01.080464700Z"
    }
   },
   "id": "82db7c98b04cedd5"
  },
  {
   "cell_type": "code",
   "execution_count": 5,
   "outputs": [],
   "source": [
    "class GridCodeEncoder(BaseEstimator, TransformerMixin):\n",
    "    def __init__(self):\n",
    "        pass\n",
    "\n",
    "    def fit(self, X, y=None):\n",
    "        return self\n",
    "\n",
    "    def transform(self, X):\n",
    "        if not isinstance(X, pd.DataFrame):\n",
    "            X = pd.DataFrame(X)\n",
    "        \n",
    "        X = X.copy()\n",
    "        X[['grid_x', 'grid_y']] = X['grid_code'].str.split('@', expand=True).astype(int)\n",
    "        return X.drop(columns=['grid_code'])"
   ],
   "metadata": {
    "collapsed": false,
    "ExecuteTime": {
     "end_time": "2024-06-17T01:20:01.113961300Z",
     "start_time": "2024-06-17T01:20:01.093172400Z"
    }
   },
   "id": "9964c2fd3a147cc3"
  },
  {
   "cell_type": "markdown",
   "source": [
    "Split the datasets as before"
   ],
   "metadata": {
    "collapsed": false
   },
   "id": "b4aa2e487fdf5424"
  },
  {
   "cell_type": "code",
   "execution_count": 6,
   "outputs": [
    {
     "name": "stdout",
     "output_type": "stream",
     "text": [
      "Total: 358 grid_codes.\n"
     ]
    }
   ],
   "source": [
    "from sklearn.model_selection import train_test_split\n",
    "\n",
    "count = 0\n",
    "for grid_code, group in final_gird_dataset.groupby('grid_code'):\n",
    "    train_set_one_grid, test_set_one_grid = train_test_split(group, test_size=0.2, random_state=42)\n",
    "    \n",
    "    if count == 0:\n",
    "        train_set = train_set_one_grid\n",
    "        test_set = test_set_one_grid\n",
    "    else:\n",
    "        train_set = pd.concat([train_set, train_set_one_grid], axis=0)\n",
    "        test_set = pd.concat([test_set, test_set_one_grid], axis=0)\n",
    "    \n",
    "    count += 1\n",
    "\n",
    "print(f'Total: {count} grid_codes.')"
   ],
   "metadata": {
    "collapsed": false,
    "ExecuteTime": {
     "end_time": "2024-06-17T01:20:13.689071200Z",
     "start_time": "2024-06-17T01:20:01.097376700Z"
    }
   },
   "id": "f73c7bd4b3968908"
  },
  {
   "cell_type": "markdown",
   "source": [
    "Defining inputs and outputs"
   ],
   "metadata": {
    "collapsed": false
   },
   "id": "49efe69e0cac28ce"
  },
  {
   "cell_type": "code",
   "execution_count": 7,
   "outputs": [],
   "source": [
    "taxi_model_inputs = ['grid_code', 'time_stamp', 'humidity', 'wind_direction', 'temp', 'wind_speed', 'wind_gust', 'pressure', 'weather_id']\n",
    "taxi_model_output = 'taxi_density'\n",
    "aqi_model_inputs = ['grid_code', 'time_stamp', 'taxi_density', 'humidity', 'wind_direction', 'temp', 'wind_speed', 'wind_gust', 'pressure', 'weather_id']\n",
    "aqi_model_output = 'pm2.5_aqi'"
   ],
   "metadata": {
    "collapsed": false,
    "ExecuteTime": {
     "end_time": "2024-06-17T01:20:13.700352500Z",
     "start_time": "2024-06-17T01:20:13.693020Z"
    }
   },
   "id": "bac613097945724f"
  },
  {
   "cell_type": "markdown",
   "source": [
    "Preprocessor"
   ],
   "metadata": {
    "collapsed": false
   },
   "id": "1eeb64f527e26fb5"
  },
  {
   "cell_type": "code",
   "execution_count": 8,
   "outputs": [],
   "source": [
    "preprocessor_taxi = ColumnTransformer(\n",
    "    transformers=[\n",
    "        ('gridcode', GridCodeEncoder(), ['grid_code']),\n",
    "        ('winddirection', WindDirectionEncoder(), ['wind_direction']),\n",
    "        ('weatherid', WeatherIdEncoder(), ['weather_id'])\n",
    "    ],\n",
    "    remainder='passthrough'\n",
    ")\n",
    "\n",
    "preprocessor_aqi = ColumnTransformer(\n",
    "    transformers=[\n",
    "        ('gridcode', GridCodeEncoder(), ['grid_code']),\n",
    "        ('winddirection', WindDirectionEncoder(), ['wind_direction']),\n",
    "        ('weatherid', WeatherIdEncoder(), ['weather_id'])\n",
    "    ],\n",
    "    remainder='passthrough'\n",
    ")\n",
    "\n",
    "taxi_pipeline = Pipeline(steps=[\n",
    "    ('preprocessor', preprocessor_taxi),\n",
    "    ('regressor', RandomForestRegressor(n_estimators=50, max_depth=10, min_samples_split=20, min_samples_leaf=10, n_jobs=-1, random_state=42))\n",
    "])\n",
    "\n",
    "aqi_pipeline = Pipeline(steps=[\n",
    "    ('preprocessor', preprocessor_aqi),\n",
    "    ('regressor', RandomForestRegressor(n_estimators=50, max_depth=10, min_samples_split=20, min_samples_leaf=10, n_jobs=-1, random_state=42))\n",
    "])"
   ],
   "metadata": {
    "collapsed": false,
    "ExecuteTime": {
     "end_time": "2024-06-17T01:20:13.717266200Z",
     "start_time": "2024-06-17T01:20:13.697284500Z"
    }
   },
   "id": "d2ecb84f71a4f679"
  },
  {
   "cell_type": "markdown",
   "source": [
    "Train and test taxi model"
   ],
   "metadata": {
    "collapsed": false
   },
   "id": "8f5ec32d02a00413"
  },
  {
   "cell_type": "code",
   "execution_count": 9,
   "outputs": [
    {
     "name": "stdout",
     "output_type": "stream",
     "text": [
      "Taxi Density Model RMSE: 297.22151100299067\n"
     ]
    }
   ],
   "source": [
    "X_train_taxi = train_set[taxi_model_inputs]\n",
    "y_train_taxi = train_set[taxi_model_output]\n",
    "taxi_pipeline.fit(X_train_taxi, y_train_taxi)\n",
    "\n",
    "X_test_taxi = test_set[taxi_model_inputs]\n",
    "y_test_taxi = test_set[taxi_model_output]\n",
    "y_pred_taxi = taxi_pipeline.predict(X_test_taxi)\n",
    "\n",
    "rmse_taxi = np.sqrt(mean_squared_error(y_test_taxi, y_pred_taxi))\n",
    "print(f'Taxi Density Model RMSE: {rmse_taxi}')"
   ],
   "metadata": {
    "collapsed": false,
    "ExecuteTime": {
     "end_time": "2024-06-16T21:08:56.839378Z",
     "start_time": "2024-06-16T21:06:22.625784600Z"
    }
   },
   "id": "995936545e4b8274"
  },
  {
   "cell_type": "markdown",
   "source": [
    "Train and test pm2.5 model"
   ],
   "metadata": {
    "collapsed": false
   },
   "id": "49b1060c8813a696"
  },
  {
   "cell_type": "code",
   "execution_count": 10,
   "outputs": [
    {
     "name": "stdout",
     "output_type": "stream",
     "text": [
      "AQI Model RMSE: 25.23263059575479\n"
     ]
    }
   ],
   "source": [
    "X_train_aqi = train_set[aqi_model_inputs]\n",
    "y_train_aqi = train_set[aqi_model_output]\n",
    "aqi_pipeline.fit(X_train_aqi, y_train_aqi)\n",
    "\n",
    "X_test_aqi = test_set[aqi_model_inputs]\n",
    "y_test_aqi = test_set[aqi_model_output]\n",
    "y_pred_aqi = aqi_pipeline.predict(X_test_aqi)\n",
    "\n",
    "rmse_aqi = np.sqrt(mean_squared_error(y_test_aqi, y_pred_aqi))\n",
    "print(f'AQI Model RMSE: {rmse_aqi}')"
   ],
   "metadata": {
    "collapsed": false,
    "ExecuteTime": {
     "end_time": "2024-06-16T21:13:47.379287600Z",
     "start_time": "2024-06-16T21:08:56.842334200Z"
    }
   },
   "id": "930a9c96d15c14c2"
  },
  {
   "cell_type": "markdown",
   "source": [
    "Train models on the entire dataset and save them"
   ],
   "metadata": {
    "collapsed": false
   },
   "id": "3d5186e8da1264c3"
  },
  {
   "cell_type": "code",
   "execution_count": 9,
   "outputs": [
    {
     "data": {
      "text/plain": "['aqi_model.pkl']"
     },
     "execution_count": 9,
     "metadata": {},
     "output_type": "execute_result"
    }
   ],
   "source": [
    "import joblib\n",
    "\n",
    "X_taxi = final_gird_dataset[taxi_model_inputs]\n",
    "y_taxi = final_gird_dataset[taxi_model_output]\n",
    "taxi_pipeline.fit(X_taxi, y_taxi)\n",
    "\n",
    "joblib.dump(taxi_pipeline, 'taxi_density_model.pkl')\n",
    "\n",
    "X_aqi = final_gird_dataset[aqi_model_inputs]\n",
    "y_aqi = final_gird_dataset[aqi_model_output]\n",
    "aqi_pipeline.fit(X_aqi, y_aqi)\n",
    "\n",
    "joblib.dump(aqi_pipeline, 'aqi_model.pkl')"
   ],
   "metadata": {
    "collapsed": false,
    "ExecuteTime": {
     "end_time": "2024-06-17T01:26:06.147266900Z",
     "start_time": "2024-06-17T01:20:13.710253300Z"
    }
   },
   "id": "acebbda7d41dabf7"
  },
  {
   "cell_type": "code",
   "execution_count": null,
   "outputs": [],
   "source": [],
   "metadata": {
    "collapsed": false
   },
   "id": "7058f587b0571ac7"
  }
 ],
 "metadata": {
  "kernelspec": {
   "display_name": "Python 3",
   "language": "python",
   "name": "python3"
  },
  "language_info": {
   "codemirror_mode": {
    "name": "ipython",
    "version": 2
   },
   "file_extension": ".py",
   "mimetype": "text/x-python",
   "name": "python",
   "nbconvert_exporter": "python",
   "pygments_lexer": "ipython2",
   "version": "2.7.6"
  }
 },
 "nbformat": 4,
 "nbformat_minor": 5
}
