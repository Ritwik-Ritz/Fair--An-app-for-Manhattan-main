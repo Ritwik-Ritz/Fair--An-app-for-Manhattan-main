{
 "cells": [
  {
   "cell_type": "markdown",
   "source": [
    "Corresponding the timestamps from final grid dataset to weather dataset."
   ],
   "metadata": {
    "collapsed": false
   },
   "id": "780a67ade29f57e9"
  },
  {
   "cell_type": "code",
   "execution_count": 1,
   "id": "initial_id",
   "metadata": {
    "collapsed": true,
    "ExecuteTime": {
     "end_time": "2024-06-17T01:17:42.504202700Z",
     "start_time": "2024-06-17T01:17:40.855974200Z"
    }
   },
   "outputs": [],
   "source": [
    "import pandas as pd\n",
    "\n",
    "final_grid_dataset = pd.read_csv('final_grid_dataset_1.csv')\n",
    "weather_processed = pd.read_csv('weather_processed.csv')\n",
    "\n",
    "final_timestamps = sorted(final_grid_dataset['time_stamp'].unique())\n",
    "weather_timestamps = sorted(weather_processed['timestamp'].unique())\n",
    "\n",
    "correspondence = {}\n",
    "j = 0\n",
    "\n",
    "for ts in final_timestamps:\n",
    "    while j < len(weather_timestamps) - 1 and weather_timestamps[j+1] <= ts:\n",
    "        j += 1\n",
    "    correspondence[ts] = weather_timestamps[j]"
   ]
  },
  {
   "cell_type": "markdown",
   "source": [
    "Add weather columns."
   ],
   "metadata": {
    "collapsed": false
   },
   "id": "dbc77818beb4d602"
  },
  {
   "cell_type": "code",
   "execution_count": 2,
   "outputs": [],
   "source": [
    "correspondence_df = pd.DataFrame(list(correspondence.items()), columns=['time_stamp', 'weather_timestamp'])\n",
    "\n",
    "final_grid_dataset = final_grid_dataset.merge(correspondence_df, on='time_stamp', how='left')\n",
    "\n",
    "final_grid_dataset = final_grid_dataset.merge(weather_processed, left_on='weather_timestamp', right_on='timestamp', how='left', suffixes=('', '_weather'))\n",
    "\n",
    "columns_to_keep = [\n",
    "    'grid_code', 'time_stamp', 'taxi_density', 'pm2.5_aqi', 'humidity', 'wind_direction', \n",
    "    'temp', 'wind_speed', 'wind_gust', 'pressure', 'weather_id'\n",
    "]\n",
    "\n",
    "final_grid_dataset = final_grid_dataset[columns_to_keep]"
   ],
   "metadata": {
    "collapsed": false,
    "ExecuteTime": {
     "end_time": "2024-06-17T01:17:43.195536300Z",
     "start_time": "2024-06-17T01:17:42.507782400Z"
    }
   },
   "id": "18d389a9007d792b"
  },
  {
   "cell_type": "code",
   "execution_count": 3,
   "outputs": [
    {
     "data": {
      "text/plain": "  grid_code  time_stamp  taxi_density  pm2.5_aqi  humidity wind_direction  \\\n0       0@7  1680310800      0.000000  52.226051        62              S   \n1       0@8  1680310800      0.000000  52.226051        62              S   \n2       0@9  1680310800      0.000000  68.886052        62              S   \n3       1@9  1680310800      0.000000  68.886052        62              S   \n4       3@6  1680310800      0.000000  52.226051        62              S   \n5       3@7  1680310800      0.000000  52.929506        62              S   \n6       4@6  1680310800      0.000000  52.929506        62              S   \n7       4@7  1680310800      0.000000  68.886052        62              S   \n8       4@8  1680310800      0.000000  68.886052        62              S   \n9      4@10  1680310800     28.959613  78.583004        62              S   \n\n         temp  wind_speed  wind_gust     pressure  weather_id  \n0  287.594444      4.4704        0.0  1009.482859         804  \n1  287.594444      4.4704        0.0  1009.482859         804  \n2  287.594444      4.4704        0.0  1009.482859         804  \n3  287.594444      4.4704        0.0  1009.482859         804  \n4  287.594444      4.4704        0.0  1009.482859         804  \n5  287.594444      4.4704        0.0  1009.482859         804  \n6  287.594444      4.4704        0.0  1009.482859         804  \n7  287.594444      4.4704        0.0  1009.482859         804  \n8  287.594444      4.4704        0.0  1009.482859         804  \n9  287.594444      4.4704        0.0  1009.482859         804  ",
      "text/html": "<div>\n<style scoped>\n    .dataframe tbody tr th:only-of-type {\n        vertical-align: middle;\n    }\n\n    .dataframe tbody tr th {\n        vertical-align: top;\n    }\n\n    .dataframe thead th {\n        text-align: right;\n    }\n</style>\n<table border=\"1\" class=\"dataframe\">\n  <thead>\n    <tr style=\"text-align: right;\">\n      <th></th>\n      <th>grid_code</th>\n      <th>time_stamp</th>\n      <th>taxi_density</th>\n      <th>pm2.5_aqi</th>\n      <th>humidity</th>\n      <th>wind_direction</th>\n      <th>temp</th>\n      <th>wind_speed</th>\n      <th>wind_gust</th>\n      <th>pressure</th>\n      <th>weather_id</th>\n    </tr>\n  </thead>\n  <tbody>\n    <tr>\n      <th>0</th>\n      <td>0@7</td>\n      <td>1680310800</td>\n      <td>0.000000</td>\n      <td>52.226051</td>\n      <td>62</td>\n      <td>S</td>\n      <td>287.594444</td>\n      <td>4.4704</td>\n      <td>0.0</td>\n      <td>1009.482859</td>\n      <td>804</td>\n    </tr>\n    <tr>\n      <th>1</th>\n      <td>0@8</td>\n      <td>1680310800</td>\n      <td>0.000000</td>\n      <td>52.226051</td>\n      <td>62</td>\n      <td>S</td>\n      <td>287.594444</td>\n      <td>4.4704</td>\n      <td>0.0</td>\n      <td>1009.482859</td>\n      <td>804</td>\n    </tr>\n    <tr>\n      <th>2</th>\n      <td>0@9</td>\n      <td>1680310800</td>\n      <td>0.000000</td>\n      <td>68.886052</td>\n      <td>62</td>\n      <td>S</td>\n      <td>287.594444</td>\n      <td>4.4704</td>\n      <td>0.0</td>\n      <td>1009.482859</td>\n      <td>804</td>\n    </tr>\n    <tr>\n      <th>3</th>\n      <td>1@9</td>\n      <td>1680310800</td>\n      <td>0.000000</td>\n      <td>68.886052</td>\n      <td>62</td>\n      <td>S</td>\n      <td>287.594444</td>\n      <td>4.4704</td>\n      <td>0.0</td>\n      <td>1009.482859</td>\n      <td>804</td>\n    </tr>\n    <tr>\n      <th>4</th>\n      <td>3@6</td>\n      <td>1680310800</td>\n      <td>0.000000</td>\n      <td>52.226051</td>\n      <td>62</td>\n      <td>S</td>\n      <td>287.594444</td>\n      <td>4.4704</td>\n      <td>0.0</td>\n      <td>1009.482859</td>\n      <td>804</td>\n    </tr>\n    <tr>\n      <th>5</th>\n      <td>3@7</td>\n      <td>1680310800</td>\n      <td>0.000000</td>\n      <td>52.929506</td>\n      <td>62</td>\n      <td>S</td>\n      <td>287.594444</td>\n      <td>4.4704</td>\n      <td>0.0</td>\n      <td>1009.482859</td>\n      <td>804</td>\n    </tr>\n    <tr>\n      <th>6</th>\n      <td>4@6</td>\n      <td>1680310800</td>\n      <td>0.000000</td>\n      <td>52.929506</td>\n      <td>62</td>\n      <td>S</td>\n      <td>287.594444</td>\n      <td>4.4704</td>\n      <td>0.0</td>\n      <td>1009.482859</td>\n      <td>804</td>\n    </tr>\n    <tr>\n      <th>7</th>\n      <td>4@7</td>\n      <td>1680310800</td>\n      <td>0.000000</td>\n      <td>68.886052</td>\n      <td>62</td>\n      <td>S</td>\n      <td>287.594444</td>\n      <td>4.4704</td>\n      <td>0.0</td>\n      <td>1009.482859</td>\n      <td>804</td>\n    </tr>\n    <tr>\n      <th>8</th>\n      <td>4@8</td>\n      <td>1680310800</td>\n      <td>0.000000</td>\n      <td>68.886052</td>\n      <td>62</td>\n      <td>S</td>\n      <td>287.594444</td>\n      <td>4.4704</td>\n      <td>0.0</td>\n      <td>1009.482859</td>\n      <td>804</td>\n    </tr>\n    <tr>\n      <th>9</th>\n      <td>4@10</td>\n      <td>1680310800</td>\n      <td>28.959613</td>\n      <td>78.583004</td>\n      <td>62</td>\n      <td>S</td>\n      <td>287.594444</td>\n      <td>4.4704</td>\n      <td>0.0</td>\n      <td>1009.482859</td>\n      <td>804</td>\n    </tr>\n  </tbody>\n</table>\n</div>"
     },
     "execution_count": 3,
     "metadata": {},
     "output_type": "execute_result"
    }
   ],
   "source": [
    "final_grid_dataset.head(10)"
   ],
   "metadata": {
    "collapsed": false,
    "ExecuteTime": {
     "end_time": "2024-06-17T01:17:43.210123400Z",
     "start_time": "2024-06-17T01:17:43.195536300Z"
    }
   },
   "id": "393327ee4d0d7713"
  },
  {
   "cell_type": "code",
   "execution_count": 4,
   "outputs": [],
   "source": [
    "final_grid_dataset.to_csv('final_grid_dataset_final.csv', index=False)"
   ],
   "metadata": {
    "collapsed": false,
    "ExecuteTime": {
     "end_time": "2024-06-17T01:17:56.511302900Z",
     "start_time": "2024-06-17T01:17:43.210123400Z"
    }
   },
   "id": "fe69a86282fb05de"
  }
 ],
 "metadata": {
  "kernelspec": {
   "display_name": "Python 3",
   "language": "python",
   "name": "python3"
  },
  "language_info": {
   "codemirror_mode": {
    "name": "ipython",
    "version": 2
   },
   "file_extension": ".py",
   "mimetype": "text/x-python",
   "name": "python",
   "nbconvert_exporter": "python",
   "pygments_lexer": "ipython2",
   "version": "2.7.6"
  }
 },
 "nbformat": 4,
 "nbformat_minor": 5
}
